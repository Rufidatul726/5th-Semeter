{
  "nbformat": 4,
  "nbformat_minor": 0,
  "metadata": {
    "colab": {
      "provenance": []
    },
    "kernelspec": {
      "name": "python3",
      "display_name": "Python 3"
    },
    "language_info": {
      "name": "python"
    }
  },
  "cells": [
    {
      "cell_type": "code",
      "execution_count": 53,
      "metadata": {
        "id": "_s-IuRz-UHRo"
      },
      "outputs": [],
      "source": [
        "import numpy as np\n",
        "import pandas \n",
        "from sklearn.metrics import confusion_matrix\n",
        "from sklearn.model_selection import train_test_split\n",
        "from sklearn.tree import DecisionTreeClassifier\n",
        "from sklearn.metrics import accuracy_score\n",
        "from sklearn.metrics import classification_report"
      ]
    },
    {
      "cell_type": "code",
      "source": [
        "balance_data = pandas.read_csv(\"/content/drive/MyDrive/Colab Notebooks/DecisionTreee.csv\")\n",
        "\n",
        "print(balance_data)"
      ],
      "metadata": {
        "colab": {
          "base_uri": "https://localhost:8080/"
        },
        "id": "c642tTaRiyYk",
        "outputId": "b4cb6222-f2ba-410e-9c65-2c04930d3885"
      },
      "execution_count": 92,
      "outputs": [
        {
          "output_type": "stream",
          "name": "stdout",
          "text": [
            "          parents hasNursery      Form Children     Housing         Social  \\\n",
            "0           usual     proper  complete        1  convenient        nonprob   \n",
            "1           usual     proper  complete        1  convenient        nonprob   \n",
            "2           usual     proper  complete        1  convenient        nonprob   \n",
            "3           usual     proper  complete        1  convenient  slightly_prob   \n",
            "4           usual     proper  complete        1  convenient  slightly_prob   \n",
            "...           ...        ...       ...      ...         ...            ...   \n",
            "12955  great_pret  very_crit    foster     more    critical  slightly_prob   \n",
            "12956  great_pret  very_crit    foster     more    critical  slightly_prob   \n",
            "12957  great_pret  very_crit    foster     more    critical    problematic   \n",
            "12958  great_pret  very_crit    foster     more    critical    problematic   \n",
            "12959  great_pret  very_crit    foster     more    critical    problematic   \n",
            "\n",
            "            Health       Class     Finance  \n",
            "0      recommended   recommend  convenient  \n",
            "1         priority    priority  convenient  \n",
            "2        not_recom   not_recom  convenient  \n",
            "3      recommended   recommend  convenient  \n",
            "4         priority    priority  convenient  \n",
            "...            ...         ...         ...  \n",
            "12955     priority  spec_prior      inconv  \n",
            "12956    not_recom   not_recom      inconv  \n",
            "12957  recommended  spec_prior      inconv  \n",
            "12958     priority  spec_prior      inconv  \n",
            "12959    not_recom   not_recom      inconv  \n",
            "\n",
            "[12960 rows x 9 columns]\n"
          ]
        }
      ]
    },
    {
      "cell_type": "code",
      "source": [
        "d = {'usual': 0, 'pretentious': 1, 'great_pret': 2}\n",
        "balance_data['parents'] = balance_data['parents'].map(d)\n",
        "\n",
        "d1 = {'proper' : 0, 'less_proper':1, 'improper' : 2, 'critical' : 3, 'very_crit':4}\n",
        "balance_data['hasNursery'] = balance_data['hasNursery'].map(d1)\n",
        "\n",
        "d2 = {'complete' : 0, 'completed':1, 'incomplete' : 2, 'foster' : 3}\n",
        "balance_data['Form'] = balance_data['Form'].map(d2)\n",
        "\n",
        "d4=  {'convenient' : 0, 'less_conv':1, 'critical' : 2}\n",
        "balance_data['Housing'] = balance_data['Housing'].map(d4)\n",
        "\n",
        "d5= {'more' : 0, '1': 1, '2':2, '3':3}\n",
        "balance_data['Children'] = balance_data['Children'].map(d5)\n",
        "\n",
        "d6=  {'convenient' : 0, 'inconv':1}\n",
        "balance_data['Finance'] = balance_data['Finance'].map(d6)\n",
        "\n",
        "d7 = {'nonprob' : 0, 'slightly_prob':1, 'problematic' : 2}\n",
        "balance_data['Social'] = balance_data['Social'].map(d7) \n",
        "\n",
        "d8 = {'recommended' : 0, 'priority':1, 'not_recom' : 2}\n",
        "balance_data['Health'] = balance_data['Health'].map(d8)\n",
        "\n",
        "d9 = {'not_recom': 0, 'recommend' : 1, 'very_recom' : 2, 'priority':3, 'spec_prior' : 4}\n",
        "balance_data['Class'] = balance_data['Class'].map(d9)\n",
        "\n",
        "print(balance_data)"
      ],
      "metadata": {
        "colab": {
          "base_uri": "https://localhost:8080/"
        },
        "id": "BCUVTIWcjkcU",
        "outputId": "d41cc8cf-47a1-4e15-9afe-7bdde57457d9"
      },
      "execution_count": 84,
      "outputs": [
        {
          "output_type": "stream",
          "name": "stdout",
          "text": [
            "       parents  hasNursery  Form  Children  Housing  Social  Health  Class  \\\n",
            "0            0           0     0         1        0       0       0      1   \n",
            "1            0           0     0         1        0       0       1      3   \n",
            "2            0           0     0         1        0       0       2      0   \n",
            "3            0           0     0         1        0       1       0      1   \n",
            "4            0           0     0         1        0       1       1      3   \n",
            "...        ...         ...   ...       ...      ...     ...     ...    ...   \n",
            "12955        2           4     3         0        2       1       1      4   \n",
            "12956        2           4     3         0        2       1       2      0   \n",
            "12957        2           4     3         0        2       2       0      4   \n",
            "12958        2           4     3         0        2       2       1      4   \n",
            "12959        2           4     3         0        2       2       2      0   \n",
            "\n",
            "       Finance  \n",
            "0            0  \n",
            "1            0  \n",
            "2            0  \n",
            "3            0  \n",
            "4            0  \n",
            "...        ...  \n",
            "12955        1  \n",
            "12956        1  \n",
            "12957        1  \n",
            "12958        1  \n",
            "12959        1  \n",
            "\n",
            "[12960 rows x 9 columns]\n"
          ]
        }
      ]
    },
    {
      "cell_type": "code",
      "source": [
        "features = ['parents', 'hasNursery','Form', 'Children' ,'Housing','Social','Health',  'Class','Finance']\n",
        "\n",
        "X = balance_data[features]\n",
        "y = balance_data['Finance']\n",
        "\n",
        "print(X)\n",
        "print(y)"
      ],
      "metadata": {
        "colab": {
          "base_uri": "https://localhost:8080/"
        },
        "id": "8WJA0KGrudEY",
        "outputId": "520db49b-01ab-4db2-cb71-e53f1b013fd2"
      },
      "execution_count": 87,
      "outputs": [
        {
          "output_type": "stream",
          "name": "stdout",
          "text": [
            "       parents  hasNursery  Form  Children  Housing  Social  Health  Class  \\\n",
            "0            0           0     0         1        0       0       0      1   \n",
            "1            0           0     0         1        0       0       1      3   \n",
            "2            0           0     0         1        0       0       2      0   \n",
            "3            0           0     0         1        0       1       0      1   \n",
            "4            0           0     0         1        0       1       1      3   \n",
            "...        ...         ...   ...       ...      ...     ...     ...    ...   \n",
            "12955        2           4     3         0        2       1       1      4   \n",
            "12956        2           4     3         0        2       1       2      0   \n",
            "12957        2           4     3         0        2       2       0      4   \n",
            "12958        2           4     3         0        2       2       1      4   \n",
            "12959        2           4     3         0        2       2       2      0   \n",
            "\n",
            "       Finance  \n",
            "0            0  \n",
            "1            0  \n",
            "2            0  \n",
            "3            0  \n",
            "4            0  \n",
            "...        ...  \n",
            "12955        1  \n",
            "12956        1  \n",
            "12957        1  \n",
            "12958        1  \n",
            "12959        1  \n",
            "\n",
            "[12960 rows x 9 columns]\n",
            "0        0\n",
            "1        0\n",
            "2        0\n",
            "3        0\n",
            "4        0\n",
            "        ..\n",
            "12955    1\n",
            "12956    1\n",
            "12957    1\n",
            "12958    1\n",
            "12959    1\n",
            "Name: Finance, Length: 12960, dtype: int64\n"
          ]
        }
      ]
    },
    {
      "cell_type": "code",
      "source": [
        "from sklearn import tree\n",
        "from sklearn.tree import DecisionTreeClassifier\n",
        "\n",
        "\n",
        "dtree = DecisionTreeClassifier()\n",
        "dtree = dtree.fit(X, y)"
      ],
      "metadata": {
        "id": "eUmfo7TivcyK"
      },
      "execution_count": 90,
      "outputs": []
    },
    {
      "cell_type": "code",
      "source": [
        "tree.plot_tree(dtree, feature_names=features)"
      ],
      "metadata": {
        "colab": {
          "base_uri": "https://localhost:8080/",
          "height": 300
        },
        "id": "8JND_VlDvhyo",
        "outputId": "698abbbf-9895-4d9e-f927-009dc3b773fa"
      },
      "execution_count": 91,
      "outputs": [
        {
          "output_type": "execute_result",
          "data": {
            "text/plain": [
              "[Text(0.5, 0.75, 'Finance <= 0.5\\ngini = 0.5\\nsamples = 12960\\nvalue = [6480, 6480]'),\n",
              " Text(0.25, 0.25, 'gini = 0.0\\nsamples = 6480\\nvalue = [6480, 0]'),\n",
              " Text(0.75, 0.25, 'gini = 0.0\\nsamples = 6480\\nvalue = [0, 6480]')]"
            ]
          },
          "metadata": {},
          "execution_count": 91
        },
        {
          "output_type": "display_data",
          "data": {
            "text/plain": [
              "<Figure size 432x288 with 1 Axes>"
            ],
            "image/png": "[encoded data removed]"
          },
          "metadata": {
            "needs_background": "light"
          }
        }
      ]
    }
  ]
}