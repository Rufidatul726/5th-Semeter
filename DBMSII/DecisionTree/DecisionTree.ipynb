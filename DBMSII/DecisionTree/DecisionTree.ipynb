{
  "nbformat": 4,
  "nbformat_minor": 0,
  "metadata": {
    "colab": {
      "provenance": []
    },
    "kernelspec": {
      "name": "python3",
      "display_name": "Python 3"
    },
    "language_info": {
      "name": "python"
    }
  },
  "cells": [
    {
      "cell_type": "code",
      "execution_count": null,
      "metadata": {
        "id": "_s-IuRz-UHRo"
      },
      "outputs": [],
      "source": [
        "import numpy as np\n",
        "import pandas \n",
        "from sklearn.metrics import confusion_matrix\n",
        "from sklearn.model_selection import train_test_split\n",
        "from sklearn.tree import DecisionTreeClassifier\n",
        "from sklearn.metrics import accuracy_score\n",
        "from sklearn.metrics import classification_report"
      ]
    },
    {
      "cell_type": "code",
      "source": [
        "balance_data = pandas.read_csv(\"/content/drive/MyDrive/Colab Notebooks/DecisionTreee.csv\")\n",
        "\n",
        "print(balance_data)"
      ],
      "metadata": {
        "colab": {
          "base_uri": "https://localhost:8080/"
        },
        "id": "c642tTaRiyYk",
        "outputId": "11b843fb-d3ea-439e-a276-d9fad6ebe709"
      },
      "execution_count": null,
      "outputs": [
        {
          "output_type": "stream",
          "name": "stdout",
          "text": [
            "          parents hasNursery      Form Children     Housing         Social  \\\n",
            "0           usual     proper  complete        1  convenient        nonprob   \n",
            "1           usual     proper  complete        1  convenient        nonprob   \n",
            "2           usual     proper  complete        1  convenient        nonprob   \n",
            "3           usual     proper  complete        1  convenient  slightly_prob   \n",
            "4           usual     proper  complete        1  convenient  slightly_prob   \n",
            "...           ...        ...       ...      ...         ...            ...   \n",
            "12955  great_pret  very_crit    foster     more    critical  slightly_prob   \n",
            "12956  great_pret  very_crit    foster     more    critical  slightly_prob   \n",
            "12957  great_pret  very_crit    foster     more    critical    problematic   \n",
            "12958  great_pret  very_crit    foster     more    critical    problematic   \n",
            "12959  great_pret  very_crit    foster     more    critical    problematic   \n",
            "\n",
            "            Health       Class     Finance  \n",
            "0      recommended   recommend  convenient  \n",
            "1         priority    priority  convenient  \n",
            "2        not_recom   not_recom  convenient  \n",
            "3      recommended   recommend  convenient  \n",
            "4         priority    priority  convenient  \n",
            "...            ...         ...         ...  \n",
            "12955     priority  spec_prior      inconv  \n",
            "12956    not_recom   not_recom      inconv  \n",
            "12957  recommended  spec_prior      inconv  \n",
            "12958     priority  spec_prior      inconv  \n",
            "12959    not_recom   not_recom      inconv  \n",
            "\n",
            "[12960 rows x 9 columns]\n"
          ]
        }
      ]
    },
    {
      "cell_type": "code",
      "source": [
        "d = {'usual': 0, 'pretentious': 1, 'great_pret': 2}\n",
        "balance_data['parents'] = balance_data['parents'].map(d)\n",
        "\n",
        "d1 = {'proper' : 0, 'less_proper':1, 'improper' : 2, 'critical' : 3, 'very_crit':4}\n",
        "balance_data['hasNursery'] = balance_data['hasNursery'].map(d1)\n",
        "\n",
        "d2 = {'complete' : 0, 'completed':1, 'incomplete' : 2, 'foster' : 3}\n",
        "balance_data['Form'] = balance_data['Form'].map(d2)\n",
        "\n",
        "d4=  {'convenient' : 0, 'less_conv':1, 'critical' : 2}\n",
        "balance_data['Housing'] = balance_data['Housing'].map(d4)\n",
        "\n",
        "d5= {'more' : 0, '1': 1, '2':2, '3':3}\n",
        "balance_data['Children'] = balance_data['Children'].map(d5)\n",
        "\n",
        "d6=  {'convenient' : 0, 'inconv':1}\n",
        "balance_data['Finance'] = balance_data['Finance'].map(d6)\n",
        "\n",
        "d7 = {'nonprob' : 0, 'slightly_prob':1, 'problematic' : 2}\n",
        "balance_data['Social'] = balance_data['Social'].map(d7) \n",
        "\n",
        "d8 = {'recommended' : 0, 'priority':1, 'not_recom' : 2}\n",
        "balance_data['Health'] = balance_data['Health'].map(d8)\n",
        "\n",
        "d9 = {'not_recom': 0, 'recommend' : 1, 'very_recom' : 2, 'priority':3, 'spec_prior' : 4}\n",
        "balance_data['Class'] = balance_data['Class'].map(d9)\n",
        "\n",
        "print(balance_data)"
      ],
      "metadata": {
        "colab": {
          "base_uri": "https://localhost:8080/"
        },
        "id": "BCUVTIWcjkcU",
        "outputId": "0b6f145a-c0c1-4fd1-873f-30b5e14fb35e"
      },
      "execution_count": null,
      "outputs": [
        {
          "output_type": "stream",
          "name": "stdout",
          "text": [
            "       parents  hasNursery  Form  Children  Housing  Social  Health  Class  \\\n",
            "0            0           0     0         1        0       0       0      1   \n",
            "1            0           0     0         1        0       0       1      3   \n",
            "2            0           0     0         1        0       0       2      0   \n",
            "3            0           0     0         1        0       1       0      1   \n",
            "4            0           0     0         1        0       1       1      3   \n",
            "...        ...         ...   ...       ...      ...     ...     ...    ...   \n",
            "12955        2           4     3         0        2       1       1      4   \n",
            "12956        2           4     3         0        2       1       2      0   \n",
            "12957        2           4     3         0        2       2       0      4   \n",
            "12958        2           4     3         0        2       2       1      4   \n",
            "12959        2           4     3         0        2       2       2      0   \n",
            "\n",
            "       Finance  \n",
            "0            0  \n",
            "1            0  \n",
            "2            0  \n",
            "3            0  \n",
            "4            0  \n",
            "...        ...  \n",
            "12955        1  \n",
            "12956        1  \n",
            "12957        1  \n",
            "12958        1  \n",
            "12959        1  \n",
            "\n",
            "[12960 rows x 9 columns]\n"
          ]
        }
      ]
    },
    {
      "cell_type": "code",
      "source": [
        "features = ['parents', 'hasNursery','Form', 'Children' ,'Housing','Social','Health',  'Class','Finance']\n",
        "\n",
        "X = balance_data[features]\n",
        "y = balance_data['Finance']\n",
        "\n",
        "print(X)\n",
        "print(y)"
      ],
      "metadata": {
        "colab": {
          "base_uri": "https://localhost:8080/"
        },
        "id": "8WJA0KGrudEY",
        "outputId": "fbae507d-c3f3-4b1d-d7fa-d9e37c527901"
      },
      "execution_count": null,
      "outputs": [
        {
          "output_type": "stream",
          "name": "stdout",
          "text": [
            "       parents  hasNursery  Form  Children  Housing  Social  Health  Class  \\\n",
            "0            0           0     0         1        0       0       0      1   \n",
            "1            0           0     0         1        0       0       1      3   \n",
            "2            0           0     0         1        0       0       2      0   \n",
            "3            0           0     0         1        0       1       0      1   \n",
            "4            0           0     0         1        0       1       1      3   \n",
            "...        ...         ...   ...       ...      ...     ...     ...    ...   \n",
            "12955        2           4     3         0        2       1       1      4   \n",
            "12956        2           4     3         0        2       1       2      0   \n",
            "12957        2           4     3         0        2       2       0      4   \n",
            "12958        2           4     3         0        2       2       1      4   \n",
            "12959        2           4     3         0        2       2       2      0   \n",
            "\n",
            "       Finance  \n",
            "0            0  \n",
            "1            0  \n",
            "2            0  \n",
            "3            0  \n",
            "4            0  \n",
            "...        ...  \n",
            "12955        1  \n",
            "12956        1  \n",
            "12957        1  \n",
            "12958        1  \n",
            "12959        1  \n",
            "\n",
            "[12960 rows x 9 columns]\n",
            "0        0\n",
            "1        0\n",
            "2        0\n",
            "3        0\n",
            "4        0\n",
            "        ..\n",
            "12955    1\n",
            "12956    1\n",
            "12957    1\n",
            "12958    1\n",
            "12959    1\n",
            "Name: Finance, Length: 12960, dtype: int64\n"
          ]
        }
      ]
    },
    {
      "cell_type": "code",
      "source": [
        "X = balance_data.values[:, 0:7]\n",
        "y = balance_data.values[:, 8]\n",
        "X_train, X_test, y_train, y_test = train_test_split( X, y, test_size = 0.2, random_state = 100)"
      ],
      "metadata": {
        "colab": {
          "base_uri": "https://localhost:8080/"
        },
        "id": "XEuwNIq_3AoB",
        "outputId": "0694cfda-bb13-4685-af7a-4ea696f97862"
      },
      "execution_count": null,
      "outputs": [
        {
          "output_type": "stream",
          "name": "stdout",
          "text": [
            "X:  [[0 0 0 ... 0 0 0]\n",
            " [0 0 0 ... 0 0 1]\n",
            " [0 0 0 ... 0 0 2]\n",
            " ...\n",
            " [2 4 3 ... 2 2 0]\n",
            " [2 4 3 ... 2 2 1]\n",
            " [2 4 3 ... 2 2 2]] Y:  [0 0 0 ... 1 1 1]\n",
            "X_train  [[0 4 1 ... 2 0 1]\n",
            " [2 2 3 ... 2 0 1]\n",
            " [0 0 3 ... 0 0 2]\n",
            " ...\n",
            " [1 4 1 ... 2 0 2]\n",
            " [1 3 0 ... 1 2 0]\n",
            " [1 1 2 ... 1 2 0]]  X-test  [[1 0 0 ... 0 0 2]\n",
            " [0 3 0 ... 1 1 2]\n",
            " [0 1 0 ... 0 0 1]\n",
            " ...\n",
            " [1 4 2 ... 0 1 0]\n",
            " [0 3 3 ... 1 2 1]\n",
            " [1 4 1 ... 1 1 2]]  y-train  [0 1 1 ... 1 0 0] y-test [0 0 1 ... 0 0 1]\n"
          ]
        }
      ]
    },
    {
      "cell_type": "code",
      "source": [
        "from sklearn import tree\n",
        "from sklearn.tree import DecisionTreeClassifier\n",
        "\n",
        "\n",
        "dtree = DecisionTreeClassifier(criterion = \"entropy\",random_state = 42, max_depth=6, min_samples_leaf=5)\n",
        "dtree = dtree.fit(X_train, y_train )"
      ],
      "metadata": {
        "id": "eUmfo7TivcyK"
      },
      "execution_count": 77,
      "outputs": []
    },
    {
      "cell_type": "code",
      "source": [
        "y_pred = dtree.predict(X_test)\n",
        "print(\"Predicted values:\")\n",
        "print(y_pred)\n"
      ],
      "metadata": {
        "colab": {
          "base_uri": "https://localhost:8080/"
        },
        "id": "X5KrpN7W5Xeo",
        "outputId": "b319b3a6-a251-462a-dfc1-b840e50fbae4"
      },
      "execution_count": 78,
      "outputs": [
        {
          "output_type": "stream",
          "name": "stdout",
          "text": [
            "Predicted values:\n",
            "[1 1 0 ... 0 1 0]\n"
          ]
        }
      ]
    },
    {
      "cell_type": "code",
      "source": [
        "print(\"Confusion Matrix: \",\n",
        "      confusion_matrix(y_test, y_pred))\n",
        "\n",
        "print (\"Accuracy : \",\n",
        "    accuracy_score(y_test,y_pred)*100)\n",
        "      \n",
        "print(\"Report : \",\n",
        "    classification_report(y_test, y_pred))"
      ],
      "metadata": {
        "colab": {
          "base_uri": "https://localhost:8080/"
        },
        "id": "YiNtY9RMMNYH",
        "outputId": "c49ff53b-e95a-4746-f430-0ab7e926ae14"
      },
      "execution_count": 79,
      "outputs": [
        {
          "output_type": "stream",
          "name": "stdout",
          "text": [
            "Confusion Matrix:  [[1035  864]\n",
            " [1328  661]]\n",
            "Accuracy :  43.62139917695473\n",
            "Report :                precision    recall  f1-score   support\n",
            "\n",
            "           0       0.44      0.55      0.49      1899\n",
            "           1       0.43      0.33      0.38      1989\n",
            "\n",
            "    accuracy                           0.44      3888\n",
            "   macro avg       0.44      0.44      0.43      3888\n",
            "weighted avg       0.44      0.44      0.43      3888\n",
            "\n"
          ]
        }
      ]
    },
    {
      "cell_type": "code",
      "source": [
        "tree.plot_tree(dtree, feature_names=features)"
      ],
      "metadata": {
        "colab": {
          "base_uri": "https://localhost:8080/",
          "height": 1000
        },
        "id": "8JND_VlDvhyo",
        "outputId": "8cbefd34-0472-41d5-8a6b-2439b1d2197a"
      },
      "execution_count": 80,
      "outputs": [
        {
          "output_type": "execute_result",
          "data": {
            "text/plain": [
              "[Text(0.5, 0.9285714285714286, 'Health <= 0.5\\nentropy = 1.0\\nsamples = 9072\\nvalue = [4581, 4491]'),\n",
              " Text(0.25, 0.7857142857142857, 'hasNursery <= 0.5\\nentropy = 1.0\\nsamples = 3036\\nvalue = [1557, 1479]'),\n",
              " Text(0.125, 0.6428571428571429, 'Social <= 0.5\\nentropy = 0.999\\nsamples = 602\\nvalue = [314, 288]'),\n",
              " Text(0.0625, 0.5, 'Children <= 2.5\\nentropy = 0.992\\nsamples = 203\\nvalue = [112, 91]'),\n",
              " Text(0.03125, 0.35714285714285715, 'Housing <= 0.5\\nentropy = 0.995\\nsamples = 155\\nvalue = [84, 71]'),\n",
              " Text(0.015625, 0.21428571428571427, 'Children <= 0.5\\nentropy = 1.0\\nsamples = 54\\nvalue = [27, 27]'),\n",
              " Text(0.0078125, 0.07142857142857142, 'entropy = 0.964\\nsamples = 18\\nvalue = [11, 7]'),\n",
              " Text(0.0234375, 0.07142857142857142, 'entropy = 0.991\\nsamples = 36\\nvalue = [16, 20]'),\n",
              " Text(0.046875, 0.21428571428571427, 'Form <= 0.5\\nentropy = 0.988\\nsamples = 101\\nvalue = [57, 44]'),\n",
              " Text(0.0390625, 0.07142857142857142, 'entropy = 0.943\\nsamples = 25\\nvalue = [16, 9]'),\n",
              " Text(0.0546875, 0.07142857142857142, 'entropy = 0.995\\nsamples = 76\\nvalue = [41, 35]'),\n",
              " Text(0.09375, 0.35714285714285715, 'Form <= 2.5\\nentropy = 0.98\\nsamples = 48\\nvalue = [28, 20]'),\n",
              " Text(0.078125, 0.21428571428571427, 'Housing <= 1.5\\nentropy = 0.96\\nsamples = 34\\nvalue = [21, 13]'),\n",
              " Text(0.0703125, 0.07142857142857142, 'entropy = 0.9\\nsamples = 19\\nvalue = [13, 6]'),\n",
              " Text(0.0859375, 0.07142857142857142, 'entropy = 0.997\\nsamples = 15\\nvalue = [8, 7]'),\n",
              " Text(0.109375, 0.21428571428571427, 'Housing <= 0.5\\nentropy = 1.0\\nsamples = 14\\nvalue = [7, 7]'),\n",
              " Text(0.1015625, 0.07142857142857142, 'entropy = 0.971\\nsamples = 5\\nvalue = [3, 2]'),\n",
              " Text(0.1171875, 0.07142857142857142, 'entropy = 0.991\\nsamples = 9\\nvalue = [4, 5]'),\n",
              " Text(0.1875, 0.5, 'Children <= 0.5\\nentropy = 1.0\\nsamples = 399\\nvalue = [202, 197]'),\n",
              " Text(0.15625, 0.35714285714285715, 'Housing <= 1.5\\nentropy = 0.998\\nsamples = 112\\nvalue = [53, 59]'),\n",
              " Text(0.140625, 0.21428571428571427, 'Housing <= 0.5\\nentropy = 0.988\\nsamples = 78\\nvalue = [34, 44]'),\n",
              " Text(0.1328125, 0.07142857142857142, 'entropy = 0.996\\nsamples = 43\\nvalue = [20, 23]'),\n",
              " Text(0.1484375, 0.07142857142857142, 'entropy = 0.971\\nsamples = 35\\nvalue = [14, 21]'),\n",
              " Text(0.171875, 0.21428571428571427, 'Form <= 2.5\\nentropy = 0.99\\nsamples = 34\\nvalue = [19, 15]'),\n",
              " Text(0.1640625, 0.07142857142857142, 'entropy = 1.0\\nsamples = 26\\nvalue = [13, 13]'),\n",
              " Text(0.1796875, 0.07142857142857142, 'entropy = 0.811\\nsamples = 8\\nvalue = [6, 2]'),\n",
              " Text(0.21875, 0.35714285714285715, 'Children <= 1.5\\nentropy = 0.999\\nsamples = 287\\nvalue = [149, 138]'),\n",
              " Text(0.203125, 0.21428571428571427, 'Social <= 1.5\\nentropy = 0.991\\nsamples = 92\\nvalue = [51, 41]'),\n",
              " Text(0.1953125, 0.07142857142857142, 'entropy = 0.997\\nsamples = 45\\nvalue = [24, 21]'),\n",
              " Text(0.2109375, 0.07142857142857142, 'entropy = 0.984\\nsamples = 47\\nvalue = [27, 20]'),\n",
              " Text(0.234375, 0.21428571428571427, 'Housing <= 0.5\\nentropy = 1.0\\nsamples = 195\\nvalue = [98, 97]'),\n",
              " Text(0.2265625, 0.07142857142857142, 'entropy = 0.996\\nsamples = 69\\nvalue = [37, 32]'),\n",
              " Text(0.2421875, 0.07142857142857142, 'entropy = 0.999\\nsamples = 126\\nvalue = [61, 65]'),\n",
              " Text(0.375, 0.6428571428571429, 'Social <= 0.5\\nentropy = 1.0\\nsamples = 2434\\nvalue = [1243, 1191]'),\n",
              " Text(0.3125, 0.5, 'Children <= 0.5\\nentropy = 1.0\\nsamples = 813\\nvalue = [406, 407]'),\n",
              " Text(0.28125, 0.35714285714285715, 'Housing <= 0.5\\nentropy = 0.998\\nsamples = 198\\nvalue = [104, 94]'),\n",
              " Text(0.265625, 0.21428571428571427, 'parents <= 0.5\\nentropy = 0.975\\nsamples = 59\\nvalue = [35, 24]'),\n",
              " Text(0.2578125, 0.07142857142857142, 'entropy = 0.9\\nsamples = 19\\nvalue = [13, 6]'),\n",
              " Text(0.2734375, 0.07142857142857142, 'entropy = 0.993\\nsamples = 40\\nvalue = [22, 18]'),\n",
              " Text(0.296875, 0.21428571428571427, 'hasNursery <= 3.5\\nentropy = 1.0\\nsamples = 139\\nvalue = [69, 70]'),\n",
              " Text(0.2890625, 0.07142857142857142, 'entropy = 0.997\\nsamples = 107\\nvalue = [50, 57]'),\n",
              " Text(0.3046875, 0.07142857142857142, 'entropy = 0.974\\nsamples = 32\\nvalue = [19, 13]'),\n",
              " Text(0.34375, 0.35714285714285715, 'Children <= 1.5\\nentropy = 1.0\\nsamples = 615\\nvalue = [302, 313]'),\n",
              " Text(0.328125, 0.21428571428571427, 'hasNursery <= 1.5\\nentropy = 0.997\\nsamples = 211\\nvalue = [99, 112]'),\n",
              " Text(0.3203125, 0.07142857142857142, 'entropy = 0.983\\nsamples = 52\\nvalue = [22, 30]'),\n",
              " Text(0.3359375, 0.07142857142857142, 'entropy = 0.999\\nsamples = 159\\nvalue = [77, 82]'),\n",
              " Text(0.359375, 0.21428571428571427, 'hasNursery <= 3.5\\nentropy = 1.0\\nsamples = 404\\nvalue = [203, 201]'),\n",
              " Text(0.3515625, 0.07142857142857142, 'entropy = 1.0\\nsamples = 306\\nvalue = [156, 150]'),\n",
              " Text(0.3671875, 0.07142857142857142, 'entropy = 0.999\\nsamples = 98\\nvalue = [47, 51]'),\n",
              " Text(0.4375, 0.5, 'Housing <= 0.5\\nentropy = 0.999\\nsamples = 1621\\nvalue = [837, 784]'),\n",
              " Text(0.40625, 0.35714285714285715, 'Children <= 1.5\\nentropy = 1.0\\nsamples = 523\\nvalue = [263, 260]'),\n",
              " Text(0.390625, 0.21428571428571427, 'hasNursery <= 1.5\\nentropy = 0.999\\nsamples = 251\\nvalue = [130, 121]'),\n",
              " Text(0.3828125, 0.07142857142857142, 'entropy = 0.999\\nsamples = 66\\nvalue = [32, 34]'),\n",
              " Text(0.3984375, 0.07142857142857142, 'entropy = 0.997\\nsamples = 185\\nvalue = [98, 87]'),\n",
              " Text(0.421875, 0.21428571428571427, 'Form <= 0.5\\nentropy = 1.0\\nsamples = 272\\nvalue = [133, 139]'),\n",
              " Text(0.4140625, 0.07142857142857142, 'entropy = 0.994\\nsamples = 68\\nvalue = [31, 37]'),\n",
              " Text(0.4296875, 0.07142857142857142, 'entropy = 1.0\\nsamples = 204\\nvalue = [102, 102]'),\n",
              " Text(0.46875, 0.35714285714285715, 'Housing <= 1.5\\nentropy = 0.999\\nsamples = 1098\\nvalue = [574, 524]'),\n",
              " Text(0.453125, 0.21428571428571427, 'parents <= 0.5\\nentropy = 0.997\\nsamples = 557\\nvalue = [297, 260]'),\n",
              " Text(0.4453125, 0.07142857142857142, 'entropy = 1.0\\nsamples = 181\\nvalue = [92, 89]'),\n",
              " Text(0.4609375, 0.07142857142857142, 'entropy = 0.994\\nsamples = 376\\nvalue = [205, 171]'),\n",
              " Text(0.484375, 0.21428571428571427, 'hasNursery <= 3.5\\nentropy = 1.0\\nsamples = 541\\nvalue = [277, 264]'),\n",
              " Text(0.4765625, 0.07142857142857142, 'entropy = 1.0\\nsamples = 410\\nvalue = [207, 203]'),\n",
              " Text(0.4921875, 0.07142857142857142, 'entropy = 0.997\\nsamples = 131\\nvalue = [70, 61]'),\n",
              " Text(0.75, 0.7857142857142857, 'Children <= 1.5\\nentropy = 1.0\\nsamples = 6036\\nvalue = [3024, 3012]'),\n",
              " Text(0.625, 0.6428571428571429, 'Form <= 2.5\\nentropy = 1.0\\nsamples = 3029\\nvalue = [1500, 1529]'),\n",
              " Text(0.5625, 0.5, 'parents <= 1.5\\nentropy = 1.0\\nsamples = 2284\\nvalue = [1120, 1164]'),\n",
              " Text(0.53125, 0.35714285714285715, 'Form <= 1.5\\nentropy = 0.999\\nsamples = 1539\\nvalue = [742, 797]'),\n",
              " Text(0.515625, 0.21428571428571427, 'hasNursery <= 1.5\\nentropy = 1.0\\nsamples = 1018\\nvalue = [497, 521]'),\n",
              " Text(0.5078125, 0.07142857142857142, 'entropy = 0.998\\nsamples = 394\\nvalue = [188, 206]'),\n",
              " Text(0.5234375, 0.07142857142857142, 'entropy = 1.0\\nsamples = 624\\nvalue = [309, 315]'),\n",
              " Text(0.546875, 0.21428571428571427, 'Social <= 0.5\\nentropy = 0.997\\nsamples = 521\\nvalue = [245, 276]'),\n",
              " Text(0.5390625, 0.07142857142857142, 'entropy = 0.993\\nsamples = 177\\nvalue = [80, 97]'),\n",
              " Text(0.5546875, 0.07142857142857142, 'entropy = 0.999\\nsamples = 344\\nvalue = [165, 179]'),\n",
              " Text(0.59375, 0.35714285714285715, 'Health <= 1.5\\nentropy = 1.0\\nsamples = 745\\nvalue = [378, 367]'),\n",
              " Text(0.578125, 0.21428571428571427, 'hasNursery <= 2.5\\nentropy = 1.0\\nsamples = 371\\nvalue = [183, 188]'),\n",
              " Text(0.5703125, 0.07142857142857142, 'entropy = 1.0\\nsamples = 217\\nvalue = [110, 107]'),\n",
              " Text(0.5859375, 0.07142857142857142, 'entropy = 0.998\\nsamples = 154\\nvalue = [73, 81]'),\n",
              " Text(0.609375, 0.21428571428571427, 'hasNursery <= 2.5\\nentropy = 0.999\\nsamples = 374\\nvalue = [195, 179]'),\n",
              " Text(0.6015625, 0.07142857142857142, 'entropy = 0.999\\nsamples = 222\\nvalue = [114, 108]'),\n",
              " Text(0.6171875, 0.07142857142857142, 'entropy = 0.997\\nsamples = 152\\nvalue = [81, 71]'),\n",
              " Text(0.6875, 0.5, 'Health <= 1.5\\nentropy = 1.0\\nsamples = 745\\nvalue = [380, 365]'),\n",
              " Text(0.65625, 0.35714285714285715, 'Housing <= 1.5\\nentropy = 0.998\\nsamples = 360\\nvalue = [189, 171]'),\n",
              " Text(0.640625, 0.21428571428571427, 'Social <= 0.5\\nentropy = 0.991\\nsamples = 237\\nvalue = [132, 105]'),\n",
              " Text(0.6328125, 0.07142857142857142, 'entropy = 0.966\\nsamples = 79\\nvalue = [48, 31]'),\n",
              " Text(0.6484375, 0.07142857142857142, 'entropy = 0.997\\nsamples = 158\\nvalue = [84, 74]'),\n",
              " Text(0.671875, 0.21428571428571427, 'Social <= 1.5\\nentropy = 0.996\\nsamples = 123\\nvalue = [57, 66]'),\n",
              " Text(0.6640625, 0.07142857142857142, 'entropy = 1.0\\nsamples = 80\\nvalue = [39, 41]'),\n",
              " Text(0.6796875, 0.07142857142857142, 'entropy = 0.981\\nsamples = 43\\nvalue = [18, 25]'),\n",
              " Text(0.71875, 0.35714285714285715, 'Housing <= 0.5\\nentropy = 1.0\\nsamples = 385\\nvalue = [191, 194]'),\n",
              " Text(0.703125, 0.21428571428571427, 'Social <= 1.5\\nentropy = 0.997\\nsamples = 131\\nvalue = [61, 70]'),\n",
              " Text(0.6953125, 0.07142857142857142, 'entropy = 1.0\\nsamples = 88\\nvalue = [43, 45]'),\n",
              " Text(0.7109375, 0.07142857142857142, 'entropy = 0.981\\nsamples = 43\\nvalue = [18, 25]'),\n",
              " Text(0.734375, 0.21428571428571427, 'Social <= 0.5\\nentropy = 1.0\\nsamples = 254\\nvalue = [130, 124]'),\n",
              " Text(0.7265625, 0.07142857142857142, 'entropy = 0.998\\nsamples = 85\\nvalue = [40, 45]'),\n",
              " Text(0.7421875, 0.07142857142857142, 'entropy = 0.997\\nsamples = 169\\nvalue = [90, 79]'),\n",
              " Text(0.875, 0.6428571428571429, 'Social <= 0.5\\nentropy = 1.0\\nsamples = 3007\\nvalue = [1524, 1483]'),\n",
              " Text(0.8125, 0.5, 'Health <= 1.5\\nentropy = 1.0\\nsamples = 1019\\nvalue = [498, 521]'),\n",
              " Text(0.78125, 0.35714285714285715, 'Form <= 1.5\\nentropy = 0.998\\nsamples = 513\\nvalue = [244, 269]'),\n",
              " Text(0.765625, 0.21428571428571427, 'Housing <= 1.5\\nentropy = 1.0\\nsamples = 245\\nvalue = [121, 124]'),\n",
              " Text(0.7578125, 0.07142857142857142, 'entropy = 0.999\\nsamples = 165\\nvalue = [85, 80]'),\n",
              " Text(0.7734375, 0.07142857142857142, 'entropy = 0.993\\nsamples = 80\\nvalue = [36, 44]'),\n",
              " Text(0.796875, 0.21428571428571427, 'parents <= 0.5\\nentropy = 0.995\\nsamples = 268\\nvalue = [123, 145]'),\n",
              " Text(0.7890625, 0.07142857142857142, 'entropy = 1.0\\nsamples = 93\\nvalue = [47, 46]'),\n",
              " Text(0.8046875, 0.07142857142857142, 'entropy = 0.988\\nsamples = 175\\nvalue = [76, 99]'),\n",
              " Text(0.84375, 0.35714285714285715, 'hasNursery <= 2.5\\nentropy = 1.0\\nsamples = 506\\nvalue = [254, 252]'),\n",
              " Text(0.828125, 0.21428571428571427, 'Housing <= 0.5\\nentropy = 0.999\\nsamples = 299\\nvalue = [154, 145]'),\n",
              " Text(0.8203125, 0.07142857142857142, 'entropy = 1.0\\nsamples = 104\\nvalue = [51, 53]'),\n",
              " Text(0.8359375, 0.07142857142857142, 'entropy = 0.998\\nsamples = 195\\nvalue = [103, 92]'),\n",
              " Text(0.859375, 0.21428571428571427, 'hasNursery <= 3.5\\nentropy = 0.999\\nsamples = 207\\nvalue = [100, 107]'),\n",
              " Text(0.8515625, 0.07142857142857142, 'entropy = 0.992\\nsamples = 98\\nvalue = [44, 54]'),\n",
              " Text(0.8671875, 0.07142857142857142, 'entropy = 0.999\\nsamples = 109\\nvalue = [56, 53]'),\n",
              " Text(0.9375, 0.5, 'hasNursery <= 0.5\\nentropy = 0.999\\nsamples = 1988\\nvalue = [1026, 962]'),\n",
              " Text(0.90625, 0.35714285714285715, 'parents <= 0.5\\nentropy = 1.0\\nsamples = 390\\nvalue = [193, 197]'),\n",
              " Text(0.890625, 0.21428571428571427, 'Health <= 1.5\\nentropy = 0.997\\nsamples = 128\\nvalue = [60, 68]'),\n",
              " Text(0.8828125, 0.07142857142857142, 'entropy = 0.994\\nsamples = 55\\nvalue = [30, 25]'),\n",
              " Text(0.8984375, 0.07142857142857142, 'entropy = 0.977\\nsamples = 73\\nvalue = [30, 43]'),\n",
              " Text(0.921875, 0.21428571428571427, 'Form <= 0.5\\nentropy = 1.0\\nsamples = 262\\nvalue = [133, 129]'),\n",
              " Text(0.9140625, 0.07142857142857142, 'entropy = 0.992\\nsamples = 56\\nvalue = [31, 25]'),\n",
              " Text(0.9296875, 0.07142857142857142, 'entropy = 1.0\\nsamples = 206\\nvalue = [102, 104]'),\n",
              " Text(0.96875, 0.35714285714285715, 'Health <= 1.5\\nentropy = 0.999\\nsamples = 1598\\nvalue = [833, 765]'),\n",
              " Text(0.953125, 0.21428571428571427, 'Form <= 2.5\\nentropy = 1.0\\nsamples = 814\\nvalue = [416, 398]'),\n",
              " Text(0.9453125, 0.07142857142857142, 'entropy = 0.999\\nsamples = 614\\nvalue = [320, 294]'),\n",
              " Text(0.9609375, 0.07142857142857142, 'entropy = 0.999\\nsamples = 200\\nvalue = [96, 104]'),\n",
              " Text(0.984375, 0.21428571428571427, 'Form <= 2.5\\nentropy = 0.997\\nsamples = 784\\nvalue = [417, 367]'),\n",
              " Text(0.9765625, 0.07142857142857142, 'entropy = 0.999\\nsamples = 596\\nvalue = [310, 286]'),\n",
              " Text(0.9921875, 0.07142857142857142, 'entropy = 0.986\\nsamples = 188\\nvalue = [107, 81]')]"
            ]
          },
          "metadata": {},
          "execution_count": 80
        },
        {
          "output_type": "display_data",
          "data": {
            "text/plain": [
              "<Figure size 432x288 with 1 Axes>"
            ],
            "image/png": "[encoded data removed]"
          },
          "metadata": {
            "needs_background": "light"
          }
        }
      ]
    }
  ]
}