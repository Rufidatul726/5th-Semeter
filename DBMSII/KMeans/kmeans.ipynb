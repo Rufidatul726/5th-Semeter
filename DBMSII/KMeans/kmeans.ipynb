{
  "nbformat": 4,
  "nbformat_minor": 0,
  "metadata": {
    "colab": {
      "provenance": [],
      "authorship_tag": "ABX9TyNpv1r/wQJ0XCZNFnvpoiB9",
      "include_colab_link": true
    },
    "kernelspec": {
      "name": "python3",
      "display_name": "Python 3"
    },
    "language_info": {
      "name": "python"
    }
  },
  "cells": [
    {
      "cell_type": "markdown",
      "metadata": {
        "id": "view-in-github",
        "colab_type": "text"
      },
      "source": [
        "<a href=\"https://colab.research.google.com/github/Rufidatul726/5th-Semeter/blob/main/DBMSII/KMeans/kmeans.ipynb\" target=\"_parent\"><img src=\"https://colab.research.google.com/assets/colab-badge.svg\" alt=\"Open In Colab\"/></a>"
      ]
    },
    {
      "cell_type": "code",
      "execution_count": 9,
      "metadata": {
        "id": "mJC9S91aDbWM"
      },
      "outputs": [],
      "source": [
        "import csv\n",
        "import random\n",
        "import math"
      ]
    },
    {
      "cell_type": "code",
      "source": [
        "def load_data(filename):\n",
        "    with open(filename, 'r') as csvfile:\n",
        "        datareader = csv.reader(csvfile)\n",
        "        data = []\n",
        "        for row in datareader:\n",
        "            \n",
        "            data.append([float(x) for x in row])\n",
        "    return data"
      ],
      "metadata": {
        "id": "160V6RySDssc"
      },
      "execution_count": 10,
      "outputs": []
    },
    {
      "cell_type": "code",
      "source": [
        "def euclidean_distance(x, y):\n",
        "    distance = 0.0\n",
        "    for i in range(len(x)):\n",
        "        distance += (x[i] - y[i]) ** 2\n",
        "    return math.sqrt(distance)\n"
      ],
      "metadata": {
        "id": "_3dikPWhD1IC"
      },
      "execution_count": 11,
      "outputs": []
    },
    {
      "cell_type": "code",
      "source": [
        "def initialize_centroids(data, k):\n",
        "    centroids = random.sample(data, k)\n",
        "    return centroids"
      ],
      "metadata": {
        "id": "K4cz5KBYD3_z"
      },
      "execution_count": 12,
      "outputs": []
    },
    {
      "cell_type": "code",
      "source": [
        "def assign_clusters(data, centroids):\n",
        "    clusters = [[] for _ in range(len(centroids))]\n",
        "    for point in data:\n",
        "        distances = [euclidean_distance(point, centroid) for centroid in centroids]\n",
        "        closest_centroid_idx = distances.index(min(distances))\n",
        "        clusters[closest_centroid_idx].append(point)\n",
        "    return clusters"
      ],
      "metadata": {
        "id": "lSIN2hIvD61r"
      },
      "execution_count": 13,
      "outputs": []
    },
    {
      "cell_type": "code",
      "source": [
        "def update_centroids(clusters):\n",
        "    centroids = []\n",
        "    for cluster in clusters:\n",
        "        cluster_size = len(cluster)\n",
        "        if cluster_size == 0:\n",
        "            continue\n",
        "        sum_coords = [sum(coords) for coords in zip(*cluster)]\n",
        "        centroid = [coord / cluster_size for coord in sum_coords]\n",
        "        centroids.append(centroid)\n",
        "    return centroids\n"
      ],
      "metadata": {
        "id": "41gS7dMUKJCc"
      },
      "execution_count": 16,
      "outputs": []
    },
    {
      "cell_type": "code",
      "source": [
        "def k_means(data, k, max_iterations):\n",
        "    centroids = initialize_centroids(data, k)\n",
        "    for i in range(max_iterations):\n",
        "        clusters = assign_clusters(data, centroids)\n",
        "        new_centroids = update_centroids(clusters)\n",
        "        if centroids == new_centroids:\n",
        "            break\n",
        "        centroids = new_centroids\n",
        "    return centroids, clusters"
      ],
      "metadata": {
        "id": "jtefGKZyG4SV"
      },
      "execution_count": 14,
      "outputs": []
    },
    {
      "cell_type": "code",
      "source": [
        "import matplotlib.pyplot as plt\n",
        "\n",
        "def plot_clusters(clusters, centroids):\n",
        "    colors = ['r', 'g', 'b', 'c', 'm', 'y', 'k']\n",
        "    for i, cluster in enumerate(clusters):\n",
        "        color = colors[i % len(colors)]\n",
        "        x_coords = [point[0] for point in cluster]\n",
        "        y_coords = [point[1] for point in cluster]\n",
        "        plt.scatter(x_coords, y_coords, c=color)\n",
        "    for centroid in centroids:\n",
        "        plt.scatter(centroid[0], centroid[1], marker='x', s=200, linewidths=3, c='k')\n",
        "    plt.show()\n"
      ],
      "metadata": {
        "id": "b5k7cwQ6Ksbz"
      },
      "execution_count": 18,
      "outputs": []
    },
    {
      "cell_type": "code",
      "source": [
        "if __name__ == '__main__':\n",
        "    data = load_data('/content/data.csv')\n",
        "    k = 3\n",
        "    max_iterations = 100\n",
        "    centroids, clusters = k_means(data, k, max_iterations)\n",
        "    print('Final centroids:', centroids)\n",
        "    print('Final clusters:', clusters)\n",
        "    plot_clusters(clusters, centroids)"
      ],
      "metadata": {
        "colab": {
          "base_uri": "https://localhost:8080/",
          "height": 320
        },
        "id": "_KT3EI3VG4c8",
        "outputId": "3f9b780a-c555-49be-8b84-7a8f0e4e3b6e"
      },
      "execution_count": 19,
      "outputs": [
        {
          "output_type": "stream",
          "name": "stdout",
          "text": [
            "Final centroids: [[5.9, 7.6], [8.1, 6.8999999999999995], [2.3, 3.9499999999999997]]\n",
            "Final clusters: [[[5.6, 6.7], [5.5, 7.8], [6.5, 8.9], [6.0, 7.0]], [[6.7, 5.6], [8.9, 9.0], [9.5, 8.2], [7.1, 6.5], [9.0, 7.5], [8.5, 6.0], [7.0, 5.5]], [[1.2, 3.4], [2.0, 4.5], [3.2, 2.3], [2.8, 5.6]]]\n"
          ]
        },
        {
          "output_type": "display_data",
          "data": {
            "text/plain": [
              "<Figure size 432x288 with 1 Axes>"
            ],
            "image/png": "[encoded data removed]"
          },
          "metadata": {
            "needs_background": "light"
          }
        }
      ]
    }
  ]
}